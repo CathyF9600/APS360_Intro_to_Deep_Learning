{
  "cells": [
    {
      "cell_type": "markdown",
      "metadata": {
        "id": "3sxa8YxCbzGL"
      },
      "source": [
        "# Lab 1. PyTorch and ANNs\n",
        "\n",
        "This lab is a warm up to get you used to the PyTorch programming environment used\n",
        "in the course, and also to help you review and renew your knowledge\n",
        "of Python and relevant Python libraries.\n",
        "The lab must be done individually. Please recall that the\n",
        "University of Toronto plagarism rules apply.\n",
        "\n",
        "By the end of this lab, you should be able to:\n",
        "\n",
        "1. Be able to perform basic PyTorch tensor operations.\n",
        "2. Be able to load data into PyTorch\n",
        "3. Be able to configure an Artificial Neural Network (ANN) using PyTorch\n",
        "4. Be able to train ANNs using PyTorch\n",
        "5. Be able to evaluate different ANN configuations\n",
        "\n",
        "You will need to use numpy and PyTorch documentations for this assignment:\n",
        "\n",
        "* https://docs.scipy.org/doc/numpy/reference/\n",
        "* https://pytorch.org/docs/stable/torch.html\n",
        "\n",
        "You can also reference Python API documentations freely.\n",
        "\n",
        "\n",
        "### What to submit\n",
        "\n",
        "Submit a PDF file containing all your code, outputs, and write-up\n",
        "from parts 1-5. You can produce a PDF of your Google Colab file by\n",
        "going to `File -> Print` and then save as PDF. The Colab instructions\n",
        "has more information.\n",
        "\n",
        "**Do not submit any other files produced by your code.**\n",
        "\n",
        "Include a link to your colab file in your submission.\n",
        "\n",
        "Please use Google Colab to complete this assignment. If you want to use Jupyter Notebook, please complete the assignment and upload your Jupyter Notebook file to Google Colab for submission. \n",
        "\n",
        "**Adjust the scaling to ensure that the text is not cutoff at the margins.**"
      ]
    },
    {
      "cell_type": "markdown",
      "metadata": {
        "id": "_TlLBrWBIGt0"
      },
      "source": [
        "## Colab Link\n",
        "\n",
        "Submit make sure to include a link to your colab file here\n",
        "\n",
        "Colab Link: "
      ]
    },
    {
      "cell_type": "markdown",
      "metadata": {
        "id": "mALD3Y2bbzGT"
      },
      "source": [
        "## Part 1. Python Basics [3 pt]\n",
        "\n",
        "The purpose of this section is to get you used to the \n",
        "basics of Python, including working with functions, numbers,\n",
        "lists, and strings.\n",
        "\n",
        "Note that we **will** be checking your code for clarity and efficiency.\n",
        "\n",
        "If you have trouble with this part of the assignment, please review http://cs231n.github.io/python-numpy-tutorial/"
      ]
    },
    {
      "cell_type": "markdown",
      "metadata": {
        "id": "7gimRTE9bzGa"
      },
      "source": [
        "### Part (a) -- 1pt\n",
        "\n",
        "Write a function `sum_of_cubes` that computes the sum of cubes up to `n`. If the input to `sum_of_cubes` invalid (e.g. negative or non-integer `n`), the function should print out `\"Invalid input\"` and return `-1`."
      ]
    },
    {
      "cell_type": "code",
      "execution_count": null,
      "metadata": {
        "collapsed": true,
        "id": "fifG_Wv6bzGf",
        "jupyter": {
          "outputs_hidden": true
        }
      },
      "outputs": [],
      "source": [
        "def sum_of_cubes(n):\n",
        "    \"\"\"Return the sum (1^3 + 2^3 + 3^3 + ... + n^3)\n",
        "    \n",
        "    Precondition: n > 0, type(n) == int\n",
        "    \n",
        "    >>> sum_of_cubes(3)\n",
        "    36\n",
        "    >>> sum_of_cubes(1)\n",
        "    1\n",
        "    \"\"\"\n",
        "    sum = 0\n",
        "    for i in range(n+1):\n",
        "      sum += i**3\n",
        "    return sum\n",
        "# sum_of_cubes(3)"
      ]
    },
    {
      "cell_type": "markdown",
      "metadata": {
        "id": "bOxDP8AlbzG2"
      },
      "source": [
        "### Part (b) -- 1pt\n",
        "\n",
        "Write a function `word_lengths` that takes a sentence (string), computes the length of each word in that sentence, and returns the length of each word in a list. You can\n",
        "assume that words are always separated by a space character `\" \"`.\n",
        "\n",
        "Hint: recall the `str.split` function in Python.\n",
        "If you arenot sure how this function works, try\n",
        "typing `help(str.split)` into a Python shell, or check out https://docs.python.org/3.6/library/stdtypes.html#str.split"
      ]
    },
    {
      "cell_type": "code",
      "execution_count": null,
      "metadata": {
        "collapsed": true,
        "id": "H84jlGrVbzG5",
        "jupyter": {
          "outputs_hidden": true
        },
        "colab": {
          "base_uri": "https://localhost:8080/"
        },
        "outputId": "57851a0a-e817-43fe-f2d5-dd9dcc1c2583"
      },
      "outputs": [
        {
          "output_type": "stream",
          "name": "stdout",
          "text": [
            "Help on method_descriptor:\n",
            "\n",
            "split(self, /, sep=None, maxsplit=-1)\n",
            "    Return a list of the words in the string, using sep as the delimiter string.\n",
            "    \n",
            "    sep\n",
            "      The delimiter according which to split the string.\n",
            "      None (the default value) means split according to any whitespace,\n",
            "      and discard empty strings from the result.\n",
            "    maxsplit\n",
            "      Maximum number of splits to do.\n",
            "      -1 (the default value) means no limit.\n",
            "\n"
          ]
        }
      ],
      "source": [
        "help(str.split)"
      ]
    },
    {
      "cell_type": "code",
      "execution_count": null,
      "metadata": {
        "collapsed": true,
        "id": "w1lbnwgsbzHG",
        "jupyter": {
          "outputs_hidden": true
        },
        "colab": {
          "base_uri": "https://localhost:8080/"
        },
        "outputId": "1b541146-08ff-470c-c5c0-b18a5bf7bee0"
      },
      "outputs": [
        {
          "output_type": "execute_result",
          "data": {
            "text/plain": [
              "[5, 3, 3, 3]"
            ]
          },
          "metadata": {},
          "execution_count": 240
        }
      ],
      "source": [
        "def word_lengths(sentence):\n",
        "    \"\"\"Return a list containing the length of each word in\n",
        "    sentence.\n",
        "    \n",
        "    >>> word_lengths(\"welcome to APS360!\")\n",
        "    [7, 2, 7]\n",
        "    >>> word_lengths(\"machine learning is so cool\")\n",
        "    [7, 8, 2, 2, 4]\n",
        "    \"\"\"\n",
        "    list = str.split(sentence)\n",
        "    out = []\n",
        "    for item in list:\n",
        "      out.append(len(item))\n",
        "    return out\n",
        "\n",
        "word_lengths(\"hello how are you\")"
      ]
    },
    {
      "cell_type": "markdown",
      "metadata": {
        "id": "iCsnzu4NIGuD"
      },
      "source": [
        "### Part (c) -- 1pt\n",
        "\n",
        "Write a function `all_same_length` that takes a sentence (string),\n",
        "and checks whether every word in the string is the same length.\n",
        "You should call the function `word_lengths` in the body\n",
        "of this new function.\n"
      ]
    },
    {
      "cell_type": "code",
      "execution_count": null,
      "metadata": {
        "collapsed": true,
        "id": "Z-7qytZEIGuE",
        "jupyter": {
          "outputs_hidden": true
        },
        "colab": {
          "base_uri": "https://localhost:8080/"
        },
        "outputId": "824df2b7-c4b4-4bbc-9e01-ec0fae8e835d"
      },
      "outputs": [
        {
          "output_type": "execute_result",
          "data": {
            "text/plain": [
              "False"
            ]
          },
          "metadata": {},
          "execution_count": 241
        }
      ],
      "source": [
        "def all_same_length(sentence):\n",
        "    \"\"\"Return True if every word in sentence has the same\n",
        "    length, and False otherwise.\n",
        "    \n",
        "    >>> all_same_length(\"all same length\")\n",
        "    False\n",
        "    >>> word_lengths(\"hello world\")\n",
        "    True\n",
        "    \"\"\"\n",
        "    lenArray = word_lengths(sentence)\n",
        "    for i in range(len(lenArray)-1):\n",
        "      if lenArray[i] != lenArray[i+1]:\n",
        "        return False\n",
        "    return True\n",
        "all_same_length(\"hello how are you\")\n",
        "# all_same_length(\"how are you\")\n",
        "      "
      ]
    },
    {
      "cell_type": "markdown",
      "metadata": {
        "id": "yUh1MySTbzHT"
      },
      "source": [
        "## Part 2. NumPy Exercises [5 pt]\n",
        "\n",
        "In this part of the assignment, you'll be manipulating arrays \n",
        "usign NumPy. Normally, we use the shorter name `np` to represent\n",
        "the package `numpy`."
      ]
    },
    {
      "cell_type": "code",
      "execution_count": null,
      "metadata": {
        "collapsed": true,
        "id": "H2opcxqMbzHW",
        "jupyter": {
          "outputs_hidden": true
        }
      },
      "outputs": [],
      "source": [
        "import numpy as np"
      ]
    },
    {
      "cell_type": "markdown",
      "metadata": {
        "id": "Ek29jdqPbzHf"
      },
      "source": [
        "### Part (a) -- 1pt\n",
        "\n",
        "The below variables `matrix` and `vector` are numpy arrays. Explain what you think `<NumpyArray>.size` and `<NumpyArray>.shape` represent."
      ]
    },
    {
      "cell_type": "code",
      "execution_count": null,
      "metadata": {
        "collapsed": true,
        "id": "Z6eniOV2bzHi",
        "jupyter": {
          "outputs_hidden": true
        }
      },
      "outputs": [],
      "source": [
        "matrix = np.array([[1., 2., 3., 0.5],\n",
        "                   [4., 5., 0., 0.],\n",
        "                   [-1., -2., 1., 1.]])\n",
        "vector = np.array([2., 0., 1., -2.])"
      ]
    },
    {
      "cell_type": "code",
      "execution_count": null,
      "metadata": {
        "collapsed": true,
        "id": "JMIy15dKIGuP",
        "jupyter": {
          "outputs_hidden": true
        },
        "colab": {
          "base_uri": "https://localhost:8080/"
        },
        "outputId": "b7ffccc8-5a31-4043-a6f8-e3ade1ba001d"
      },
      "outputs": [
        {
          "output_type": "execute_result",
          "data": {
            "text/plain": [
              "12"
            ]
          },
          "metadata": {},
          "execution_count": 244
        }
      ],
      "source": [
        "matrix.size # represents the number of number items in the matrix"
      ]
    },
    {
      "cell_type": "code",
      "execution_count": null,
      "metadata": {
        "collapsed": true,
        "id": "QoHaPzDNbzHo",
        "jupyter": {
          "outputs_hidden": true
        },
        "scrolled": true,
        "colab": {
          "base_uri": "https://localhost:8080/"
        },
        "outputId": "18bfe863-dff2-4c87-96f2-7126607c0d2c"
      },
      "outputs": [
        {
          "output_type": "execute_result",
          "data": {
            "text/plain": [
              "(3, 4)"
            ]
          },
          "metadata": {},
          "execution_count": 245
        }
      ],
      "source": [
        "matrix.shape # represents the shape of the matrix (# of rows, # of columns)"
      ]
    },
    {
      "cell_type": "code",
      "execution_count": null,
      "metadata": {
        "collapsed": true,
        "id": "dErt6w25bzHu",
        "jupyter": {
          "outputs_hidden": true
        },
        "colab": {
          "base_uri": "https://localhost:8080/"
        },
        "outputId": "57314fa7-9e66-41cc-ba90-b907bbf2b925"
      },
      "outputs": [
        {
          "output_type": "execute_result",
          "data": {
            "text/plain": [
              "4"
            ]
          },
          "metadata": {},
          "execution_count": 246
        }
      ],
      "source": [
        "vector.size # represents the number of items in the vector, or the length of the array"
      ]
    },
    {
      "cell_type": "code",
      "execution_count": null,
      "metadata": {
        "collapsed": true,
        "id": "TXhHCchIIGua",
        "jupyter": {
          "outputs_hidden": true
        },
        "colab": {
          "base_uri": "https://localhost:8080/"
        },
        "outputId": "77e407a9-b220-4f03-aaa7-03b138cd754b"
      },
      "outputs": [
        {
          "output_type": "execute_result",
          "data": {
            "text/plain": [
              "(4,)"
            ]
          },
          "metadata": {},
          "execution_count": 247
        }
      ],
      "source": [
        "vector.shape # represents the dimension of the vector, (# of columns, # of rows)"
      ]
    },
    {
      "cell_type": "markdown",
      "metadata": {
        "id": "9PQ-pRIlbzH8"
      },
      "source": [
        "### Part (b) -- 1pt\n",
        "\n",
        "Perform matrix multiplication `output = matrix x vector` by using\n",
        "for loops to iterate through the columns and rows.\n",
        "Do not use any builtin NumPy functions.\n",
        "Cast your output into a NumPy array, if it isn't one already.\n",
        "\n",
        "Hint: be mindful of the dimension of output"
      ]
    },
    {
      "cell_type": "code",
      "execution_count": null,
      "metadata": {
        "collapsed": true,
        "id": "SXnZFii2bzH-",
        "jupyter": {
          "outputs_hidden": true
        }
      },
      "outputs": [],
      "source": [
        "output = None"
      ]
    },
    {
      "cell_type": "code",
      "source": [
        "def matrix_mul(matrix, vector, output):\n",
        "  output = []\n",
        "  if matrix.shape[1] != vector.size:\n",
        "    return None\n",
        "  \n",
        "  for i in range(matrix.shape[0]): # iterate thro rows\n",
        "    new_row = 0\n",
        "    for j in range(matrix.shape[1]): # iterate thro columns\n",
        "      new_row += matrix[i][j] * vector[j]\n",
        "    output.append(new_row)\n",
        "  output = np.array(output)\n",
        "  return output\n",
        "\n",
        "output = matrix_mul(matrix, vector, output)\n",
        "      "
      ],
      "metadata": {
        "id": "M_HmMNZ5qeV7"
      },
      "execution_count": null,
      "outputs": []
    },
    {
      "cell_type": "code",
      "execution_count": null,
      "metadata": {
        "collapsed": true,
        "id": "BiIVqVvvbzII",
        "jupyter": {
          "outputs_hidden": true
        },
        "colab": {
          "base_uri": "https://localhost:8080/"
        },
        "outputId": "3a57a4dc-25b0-4e68-f15d-356a08c2029f"
      },
      "outputs": [
        {
          "output_type": "execute_result",
          "data": {
            "text/plain": [
              "array([ 4.,  8., -3.])"
            ]
          },
          "metadata": {},
          "execution_count": 250
        }
      ],
      "source": [
        "output"
      ]
    },
    {
      "cell_type": "markdown",
      "metadata": {
        "id": "O5UhbilNbzIP"
      },
      "source": [
        "### Part (c) -- 1pt\n",
        "\n",
        "Perform matrix multiplication `output2 = matrix x vector` by using\n",
        "the function `numpy.dot`.\n",
        "\n",
        "We will never actually write code as in\n",
        "part(c), not only because `numpy.dot` is more concise and easier to read/write, but also performance-wise `numpy.dot` is much faster (it is written in C and highly optimized).\n",
        "In general, we will avoid for loops in our code."
      ]
    },
    {
      "cell_type": "code",
      "execution_count": null,
      "metadata": {
        "collapsed": true,
        "id": "e8dLVrMEbzIR",
        "jupyter": {
          "outputs_hidden": true
        }
      },
      "outputs": [],
      "source": [
        "output2 = None\n",
        "output2 = np.dot(matrix, vector)"
      ]
    },
    {
      "cell_type": "code",
      "execution_count": null,
      "metadata": {
        "collapsed": true,
        "id": "X1LqY1eKbzIV",
        "jupyter": {
          "outputs_hidden": true
        },
        "colab": {
          "base_uri": "https://localhost:8080/"
        },
        "outputId": "9c490ac0-4a87-4474-f269-de6181889a54"
      },
      "outputs": [
        {
          "output_type": "execute_result",
          "data": {
            "text/plain": [
              "array([ 4.,  8., -3.])"
            ]
          },
          "metadata": {},
          "execution_count": 252
        }
      ],
      "source": [
        "output2"
      ]
    },
    {
      "cell_type": "markdown",
      "metadata": {
        "id": "77XioX6vbzIb"
      },
      "source": [
        "### Part (d) -- 1pt\n",
        "\n",
        "As a way to test for consistency, show that the two outputs match."
      ]
    },
    {
      "cell_type": "code",
      "execution_count": null,
      "metadata": {
        "collapsed": true,
        "id": "1Vc-Nvf0bzIc",
        "jupyter": {
          "outputs_hidden": true
        },
        "colab": {
          "base_uri": "https://localhost:8080/"
        },
        "outputId": "487e05de-3af0-4655-8bee-8e7b79e3d055"
      },
      "outputs": [
        {
          "output_type": "stream",
          "name": "stdout",
          "text": [
            "[ True  True  True]\n"
          ]
        }
      ],
      "source": [
        "print(np.dot(matrix, vector) == matrix_mul(matrix, vector, output))"
      ]
    },
    {
      "cell_type": "markdown",
      "metadata": {
        "id": "wjEGmk8oIGur"
      },
      "source": [
        "### Part (e) -- 1pt\n",
        "\n",
        "Show that using `np.dot` is faster than using your code from part (c).\n",
        "\n",
        "You may find the below code snippit helpful:"
      ]
    },
    {
      "cell_type": "code",
      "execution_count": null,
      "metadata": {
        "collapsed": true,
        "id": "0aBOgCJeIGuv",
        "jupyter": {
          "outputs_hidden": true
        },
        "colab": {
          "base_uri": "https://localhost:8080/"
        },
        "outputId": "994d1673-06db-4832-b2a7-2bf1923561cb"
      },
      "outputs": [
        {
          "output_type": "execute_result",
          "data": {
            "text/plain": [
              "0.00015091896057128906"
            ]
          },
          "metadata": {},
          "execution_count": 254
        }
      ],
      "source": [
        "import time\n",
        "# record the time before running code\n",
        "start_time = time.time()\n",
        "\n",
        "# place code to run here\n",
        "np.dot(matrix, vector)\n",
        "    \n",
        "# record the time after the code is run\n",
        "end_time = time.time()\n",
        "\n",
        "# compute the difference\n",
        "diff = end_time - start_time\n",
        "diff"
      ]
    },
    {
      "cell_type": "code",
      "source": [
        "# record the time before running code\n",
        "start_time = time.time()\n",
        "\n",
        "# place code to run here\n",
        "output = None\n",
        "matrix_mul(matrix, vector, output)\n",
        "    \n",
        "# record the time after the code is run\n",
        "end_time = time.time()\n",
        "\n",
        "# compute the difference\n",
        "diff = end_time - start_time\n",
        "diff"
      ],
      "metadata": {
        "colab": {
          "base_uri": "https://localhost:8080/"
        },
        "id": "XmwIfkJTt3XA",
        "outputId": "7c04368b-9842-4764-db0b-12f37991c8dc"
      },
      "execution_count": null,
      "outputs": [
        {
          "output_type": "execute_result",
          "data": {
            "text/plain": [
              "0.0002155303955078125"
            ]
          },
          "metadata": {},
          "execution_count": 255
        }
      ]
    },
    {
      "cell_type": "markdown",
      "metadata": {
        "id": "LbKJjoHHbzI4"
      },
      "source": [
        "## Part 3. Images [6 pt]\n",
        "\n",
        "A picture or image can be represented as a NumPy array of “pixels”, \n",
        "with dimensions H × W × C, where H is the height of the image, W is the width of the image,\n",
        "and C is the number of colour channels. Typically we will use an image with channels that give the the Red, Green, and Blue “level” of each pixel, which is referred to with the short form RGB.\n",
        "\n",
        "You will write Python code to load an image, and perform several array manipulations to the image and visualize their effects. "
      ]
    },
    {
      "cell_type": "code",
      "execution_count": null,
      "metadata": {
        "collapsed": true,
        "id": "FRGQKpEgbzI4",
        "jupyter": {
          "outputs_hidden": true
        }
      },
      "outputs": [],
      "source": [
        "import matplotlib.pyplot as plt"
      ]
    },
    {
      "cell_type": "markdown",
      "metadata": {
        "id": "p1D5mtCubzI6"
      },
      "source": [
        "### Part (a) -- 1 pt\n",
        "\n",
        "This is a photograph of a dog whose name is Mochi.\n",
        "\n",
        "![alt text](https://drive.google.com/uc?export=view&id=1oaLVR2hr1_qzpKQ47i9rVUIklwbDcews)\n",
        "\n",
        "Load the image from its url (https://drive.google.com/uc?export=view&id=1oaLVR2hr1_qzpKQ47i9rVUIklwbDcews) into the variable `img` using the `plt.imread` function.\n",
        "\n",
        "Hint: You can enter the URL directly into the `plt.imread` function as a Python string."
      ]
    },
    {
      "cell_type": "code",
      "execution_count": null,
      "metadata": {
        "collapsed": true,
        "id": "RB8lf73vbzI7",
        "jupyter": {
          "outputs_hidden": true
        },
        "colab": {
          "base_uri": "https://localhost:8080/"
        },
        "outputId": "cb5fe9fc-76ca-4254-f034-2db77580065f"
      },
      "outputs": [
        {
          "output_type": "execute_result",
          "data": {
            "text/plain": [
              "array([[[0.5882353 , 0.37254903, 0.14901961, 1.        ],\n",
              "        [0.5764706 , 0.36078432, 0.13725491, 1.        ],\n",
              "        [0.5568628 , 0.34117648, 0.11764706, 1.        ],\n",
              "        ...,\n",
              "        [0.40784314, 0.22352941, 0.16078432, 1.        ],\n",
              "        [0.37254903, 0.22352941, 0.17254902, 1.        ],\n",
              "        [0.30980393, 0.20392157, 0.16078432, 1.        ]],\n",
              "\n",
              "       [[0.5411765 , 0.32156864, 0.09019608, 1.        ],\n",
              "        [0.5647059 , 0.34509805, 0.11372549, 1.        ],\n",
              "        [0.59607846, 0.3764706 , 0.14509805, 1.        ],\n",
              "        ...,\n",
              "        [0.4117647 , 0.22352941, 0.16862746, 1.        ],\n",
              "        [0.3882353 , 0.23921569, 0.19607843, 1.        ],\n",
              "        [0.31764707, 0.21176471, 0.1764706 , 1.        ]],\n",
              "\n",
              "       [[0.6156863 , 0.3764706 , 0.15294118, 1.        ],\n",
              "        [0.61960787, 0.38431373, 0.14901961, 1.        ],\n",
              "        [0.61960787, 0.38431373, 0.14117648, 1.        ],\n",
              "        ...,\n",
              "        [0.4117647 , 0.22352941, 0.1764706 , 1.        ],\n",
              "        [0.39607844, 0.24705882, 0.21176471, 1.        ],\n",
              "        [0.32156864, 0.21568628, 0.1882353 , 1.        ]],\n",
              "\n",
              "       ...,\n",
              "\n",
              "       [[0.70980394, 0.5764706 , 0.3882353 , 1.        ],\n",
              "        [0.7058824 , 0.57254905, 0.38431373, 1.        ],\n",
              "        [0.69803923, 0.5686275 , 0.36862746, 1.        ],\n",
              "        ...,\n",
              "        [0.7411765 , 0.64705884, 0.4745098 , 1.        ],\n",
              "        [0.74509805, 0.64705884, 0.4862745 , 1.        ],\n",
              "        [0.77254903, 0.6745098 , 0.5137255 , 1.        ]],\n",
              "\n",
              "       [[0.72156864, 0.5882353 , 0.4       , 1.        ],\n",
              "        [0.7176471 , 0.58431375, 0.39607844, 1.        ],\n",
              "        [0.7176471 , 0.58431375, 0.39607844, 1.        ],\n",
              "        ...,\n",
              "        [0.7411765 , 0.6392157 , 0.4392157 , 1.        ],\n",
              "        [0.75686276, 0.654902  , 0.4627451 , 1.        ],\n",
              "        [0.7764706 , 0.6745098 , 0.48235294, 1.        ]],\n",
              "\n",
              "       [[0.7137255 , 0.5803922 , 0.39215687, 1.        ],\n",
              "        [0.7137255 , 0.5803922 , 0.39215687, 1.        ],\n",
              "        [0.7176471 , 0.58431375, 0.39607844, 1.        ],\n",
              "        ...,\n",
              "        [0.75686276, 0.654902  , 0.45490196, 1.        ],\n",
              "        [0.76862746, 0.6666667 , 0.4745098 , 1.        ],\n",
              "        [0.77254903, 0.67058825, 0.47843137, 1.        ]]], dtype=float32)"
            ]
          },
          "metadata": {},
          "execution_count": 257
        }
      ],
      "source": [
        "img = None\n",
        "# help(plt.imread)\n",
        "img = plt.imread(\"https://drive.google.com/uc?export=view&id=1oaLVR2hr1_qzpKQ47i9rVUIklwbDcews\")\n",
        "img"
      ]
    },
    {
      "cell_type": "markdown",
      "metadata": {
        "id": "mNli5OsbbzI9"
      },
      "source": [
        "### Part (b) -- 1pt\n",
        "\n",
        "Use the function `plt.imshow` to visualize `img`. \n",
        "\n",
        "This function will also show the coordinate system used to identify pixels.\n",
        "The origin is at the top left corner, and the first dimension indicates the Y (row) direction, \n",
        "and the second dimension indicates the X (column) dimension."
      ]
    },
    {
      "cell_type": "code",
      "execution_count": null,
      "metadata": {
        "collapsed": true,
        "id": "lEeHKc_abzI9",
        "jupyter": {
          "outputs_hidden": true
        },
        "colab": {
          "base_uri": "https://localhost:8080/",
          "height": 287
        },
        "outputId": "0489fadd-5e59-4c17-8327-40318b7a4f4e"
      },
      "outputs": [
        {
          "output_type": "execute_result",
          "data": {
            "text/plain": [
              "<matplotlib.image.AxesImage at 0x7fdbfee08e10>"
            ]
          },
          "metadata": {},
          "execution_count": 258
        },
        {
          "output_type": "display_data",
          "data": {
            "text/plain": [
              "<Figure size 432x288 with 1 Axes>"
            ],
            "image/png": "[encoded data removed]"
          },
          "metadata": {
            "needs_background": "light"
          }
        }
      ],
      "source": [
        "plt.imshow(img)"
      ]
    },
    {
      "cell_type": "markdown",
      "metadata": {
        "id": "pB-Hx-OFbzJC"
      },
      "source": [
        "### Part (c) -- 2pt\n",
        "\n",
        "Modify the image by adding a constant value of 0.25 to each pixel in the `img` and\n",
        "store the result in the variable `img_add`. Note that, since the range for the pixels \n",
        "needs to be between [0, 1], you will also need to clip img_add to be in the range [0, 1] \n",
        "using `numpy.clip`. Clipping sets any value that is outside of the desired range to the \n",
        "closest endpoint. Display the image using `plt.imshow`."
      ]
    },
    {
      "cell_type": "code",
      "execution_count": null,
      "metadata": {
        "collapsed": true,
        "id": "GWBhZay2bzJC",
        "jupyter": {
          "outputs_hidden": true
        },
        "colab": {
          "base_uri": "https://localhost:8080/"
        },
        "outputId": "846dddd0-372a-4eb8-885b-9fbb247040a1"
      },
      "outputs": [
        {
          "output_type": "execute_result",
          "data": {
            "text/plain": [
              "array([[[0.8382353 , 0.62254906, 0.3990196 , 1.        ],\n",
              "        [0.8264706 , 0.6107843 , 0.3872549 , 1.        ],\n",
              "        [0.8068628 , 0.5911765 , 0.36764705, 1.        ],\n",
              "        ...,\n",
              "        [0.6578431 , 0.4735294 , 0.4107843 , 1.        ],\n",
              "        [0.62254906, 0.4735294 , 0.422549  , 1.        ],\n",
              "        [0.55980396, 0.45392156, 0.4107843 , 1.        ]],\n",
              "\n",
              "       [[0.7911765 , 0.5715686 , 0.34019607, 1.        ],\n",
              "        [0.8147059 , 0.595098  , 0.36372548, 1.        ],\n",
              "        [0.84607846, 0.62647057, 0.39509803, 1.        ],\n",
              "        ...,\n",
              "        [0.66176474, 0.4735294 , 0.41862744, 1.        ],\n",
              "        [0.63823533, 0.48921567, 0.44607842, 1.        ],\n",
              "        [0.5676471 , 0.4617647 , 0.42647058, 1.        ]],\n",
              "\n",
              "       [[0.8656863 , 0.62647057, 0.40294117, 1.        ],\n",
              "        [0.86960787, 0.6343137 , 0.3990196 , 1.        ],\n",
              "        [0.86960787, 0.6343137 , 0.39117646, 1.        ],\n",
              "        ...,\n",
              "        [0.66176474, 0.4735294 , 0.42647058, 1.        ],\n",
              "        [0.64607847, 0.4970588 , 0.4617647 , 1.        ],\n",
              "        [0.5715686 , 0.46568626, 0.43823528, 1.        ]],\n",
              "\n",
              "       ...,\n",
              "\n",
              "       [[0.95980394, 0.8264706 , 0.63823533, 1.        ],\n",
              "        [0.9558824 , 0.82254905, 0.6343137 , 1.        ],\n",
              "        [0.94803923, 0.8186275 , 0.6186274 , 1.        ],\n",
              "        ...,\n",
              "        [0.9911765 , 0.89705884, 0.72450984, 1.        ],\n",
              "        [0.99509805, 0.89705884, 0.7362745 , 1.        ],\n",
              "        [1.        , 0.9245098 , 0.7637255 , 1.        ]],\n",
              "\n",
              "       [[0.97156864, 0.8382353 , 0.65      , 1.        ],\n",
              "        [0.9676471 , 0.83431375, 0.64607847, 1.        ],\n",
              "        [0.9676471 , 0.83431375, 0.64607847, 1.        ],\n",
              "        ...,\n",
              "        [0.9911765 , 0.8892157 , 0.68921566, 1.        ],\n",
              "        [1.        , 0.904902  , 0.7127451 , 1.        ],\n",
              "        [1.        , 0.9245098 , 0.732353  , 1.        ]],\n",
              "\n",
              "       [[0.9637255 , 0.8303922 , 0.64215684, 1.        ],\n",
              "        [0.9637255 , 0.8303922 , 0.64215684, 1.        ],\n",
              "        [0.9676471 , 0.83431375, 0.64607847, 1.        ],\n",
              "        ...,\n",
              "        [1.        , 0.904902  , 0.70490193, 1.        ],\n",
              "        [1.        , 0.9166667 , 0.72450984, 1.        ],\n",
              "        [1.        , 0.92058825, 0.72843134, 1.        ]]], dtype=float32)"
            ]
          },
          "metadata": {},
          "execution_count": 259
        }
      ],
      "source": [
        "img_add = None\n",
        "img_add = np.clip(img + 0.25, 0, 1)\n",
        "# help(np.clip)\n",
        "img_add"
      ]
    },
    {
      "cell_type": "markdown",
      "metadata": {
        "id": "DeinKXBCbzJI"
      },
      "source": [
        "### Part (d) -- 2pt\n",
        "\n",
        "Crop the **original** image (`img` variable) to a 130 x 150 image including Mochi's face. Discard the alpha colour channel (i.e. resulting `img_cropped` should **only have RGB channels**)\n",
        "\n",
        "Display the image."
      ]
    },
    {
      "cell_type": "code",
      "source": [
        "img_cropped = img[0:131, 0:151]\n",
        "image_without_alpha = img_cropped[:,:,:3]\n",
        "plt.imshow(image_without_alpha)"
      ],
      "metadata": {
        "colab": {
          "base_uri": "https://localhost:8080/",
          "height": 287
        },
        "id": "d-g2UIhRvvch",
        "outputId": "db268ddf-c1ca-4f17-9133-f91c0856e3b8"
      },
      "execution_count": null,
      "outputs": [
        {
          "output_type": "execute_result",
          "data": {
            "text/plain": [
              "<matplotlib.image.AxesImage at 0x7fdbffd97690>"
            ]
          },
          "metadata": {},
          "execution_count": 260
        },
        {
          "output_type": "display_data",
          "data": {
            "text/plain": [
              "<Figure size 432x288 with 1 Axes>"
            ],
            "image/png": "[encoded data removed]"
          },
          "metadata": {
            "needs_background": "light"
          }
        }
      ]
    },
    {
      "cell_type": "code",
      "source": [
        "image_without_alpha"
      ],
      "metadata": {
        "colab": {
          "base_uri": "https://localhost:8080/"
        },
        "id": "C7CngZ5ve6Pa",
        "outputId": "b508273e-2b3d-4549-a6a5-d894e3e08077"
      },
      "execution_count": null,
      "outputs": [
        {
          "output_type": "execute_result",
          "data": {
            "text/plain": [
              "array([[[0.5882353 , 0.37254903, 0.14901961],\n",
              "        [0.5764706 , 0.36078432, 0.13725491],\n",
              "        [0.5568628 , 0.34117648, 0.11764706],\n",
              "        ...,\n",
              "        [0.6039216 , 0.3647059 , 0.15294118],\n",
              "        [0.6156863 , 0.3764706 , 0.16470589],\n",
              "        [0.6156863 , 0.3764706 , 0.16470589]],\n",
              "\n",
              "       [[0.5411765 , 0.32156864, 0.09019608],\n",
              "        [0.5647059 , 0.34509805, 0.11372549],\n",
              "        [0.59607846, 0.3764706 , 0.14509805],\n",
              "        ...,\n",
              "        [0.60784316, 0.36862746, 0.15686275],\n",
              "        [0.61960787, 0.38039216, 0.16862746],\n",
              "        [0.6156863 , 0.3764706 , 0.16470589]],\n",
              "\n",
              "       [[0.6156863 , 0.3764706 , 0.15294118],\n",
              "        [0.61960787, 0.38431373, 0.14901961],\n",
              "        [0.61960787, 0.38431373, 0.14117648],\n",
              "        ...,\n",
              "        [0.6156863 , 0.3764706 , 0.16078432],\n",
              "        [0.627451  , 0.3882353 , 0.17254902],\n",
              "        [0.62352943, 0.38431373, 0.17254902]],\n",
              "\n",
              "       ...,\n",
              "\n",
              "       [[0.5882353 , 0.37254903, 0.15294118],\n",
              "        [0.60784316, 0.39215687, 0.17254902],\n",
              "        [0.61960787, 0.40392157, 0.18039216],\n",
              "        ...,\n",
              "        [0.38039216, 0.30980393, 0.21568628],\n",
              "        [0.38039216, 0.30980393, 0.21568628],\n",
              "        [0.38431373, 0.3137255 , 0.21960784]],\n",
              "\n",
              "       [[0.5803922 , 0.3647059 , 0.14509805],\n",
              "        [0.6039216 , 0.3882353 , 0.16862746],\n",
              "        [0.62352943, 0.40784314, 0.1882353 ],\n",
              "        ...,\n",
              "        [0.40392157, 0.32156864, 0.23921569],\n",
              "        [0.39607844, 0.3137255 , 0.23137255],\n",
              "        [0.38039216, 0.29803923, 0.21568628]],\n",
              "\n",
              "       [[0.58431375, 0.36862746, 0.14901961],\n",
              "        [0.60784316, 0.39215687, 0.17254902],\n",
              "        [0.6156863 , 0.4       , 0.18039216],\n",
              "        ...,\n",
              "        [0.45882353, 0.37254903, 0.2901961 ],\n",
              "        [0.4509804 , 0.3647059 , 0.28235295],\n",
              "        [0.42352942, 0.3372549 , 0.25490198]]], dtype=float32)"
            ]
          },
          "metadata": {},
          "execution_count": 261
        }
      ]
    },
    {
      "cell_type": "markdown",
      "metadata": {
        "id": "FmfE9CQdIGva"
      },
      "source": [
        "## Part 4. Basics of PyTorch [6 pt]\n",
        "\n",
        "PyTorch is a Python-based neural networks package. Along with tensorflow, PyTorch is currently one of the most popular machine learning libraries.\n",
        "\n",
        "PyTorch, at its core, is similar to Numpy in a sense that they both \n",
        "try to make it easier to write codes for scientific computing\n",
        "achieve improved performance over vanilla Python by leveraging highly optimized C back-end.\n",
        "However, compare to Numpy, PyTorch offers much better GPU support and provides many high-level features for machine learning. Technically, Numpy can be used to perform almost every thing PyTorch does. However, Numpy would be a lot slower than PyTorch, especially with CUDA GPU, and it would take more effort to write machine learning related code compared to using PyTorch."
      ]
    },
    {
      "cell_type": "code",
      "execution_count": null,
      "metadata": {
        "collapsed": true,
        "id": "ppRPK-X2IGvb",
        "jupyter": {
          "outputs_hidden": true
        }
      },
      "outputs": [],
      "source": [
        "import torch"
      ]
    },
    {
      "cell_type": "markdown",
      "metadata": {
        "id": "DXrczIrSIGvf"
      },
      "source": [
        "### Part (a) -- 1 pt\n",
        "\n",
        "Use the function `torch.from_numpy` to convert the numpy array `img_cropped` into\n",
        "a PyTorch tensor. Save the result in a variable called `img_torch`."
      ]
    },
    {
      "cell_type": "code",
      "execution_count": null,
      "metadata": {
        "collapsed": true,
        "id": "j9rYyf4gIGvj",
        "jupyter": {
          "outputs_hidden": true
        }
      },
      "outputs": [],
      "source": [
        "img_torch = None\n",
        "img_torch = torch.from_numpy(img_cropped)"
      ]
    },
    {
      "cell_type": "markdown",
      "metadata": {
        "id": "zrpPeRKtIGvn"
      },
      "source": [
        "### Part (b) -- 1pt\n",
        "\n",
        "Use the method `<Tensor>.shape` to find the shape (dimension and size) of `img_torch`."
      ]
    },
    {
      "cell_type": "code",
      "execution_count": null,
      "metadata": {
        "collapsed": true,
        "id": "ws7G_aaxIGvn",
        "jupyter": {
          "outputs_hidden": true
        },
        "colab": {
          "base_uri": "https://localhost:8080/"
        },
        "outputId": "b9c5fef3-080d-49be-d6a9-2df74000f540"
      },
      "outputs": [
        {
          "output_type": "execute_result",
          "data": {
            "text/plain": [
              "(131, 151, 4)"
            ]
          },
          "metadata": {},
          "execution_count": 264
        }
      ],
      "source": [
        "img_cropped.shape"
      ]
    },
    {
      "cell_type": "markdown",
      "metadata": {
        "id": "uorV8t1pIGvp"
      },
      "source": [
        "### Part (c) -- 1pt\n",
        "\n",
        "How many floating-point numbers are stored in the tensor `img_torch`?"
      ]
    },
    {
      "cell_type": "code",
      "execution_count": null,
      "metadata": {
        "collapsed": true,
        "id": "sucaE_VCIGvq",
        "jupyter": {
          "outputs_hidden": true
        },
        "colab": {
          "base_uri": "https://localhost:8080/"
        },
        "outputId": "80b11797-a42b-4e60-b516-7274bb3a82a4"
      },
      "outputs": [
        {
          "output_type": "execute_result",
          "data": {
            "text/plain": [
              "79124"
            ]
          },
          "metadata": {},
          "execution_count": 265
        }
      ],
      "source": [
        "img_cropped.size"
      ]
    },
    {
      "cell_type": "markdown",
      "metadata": {
        "id": "sIcXGdg5IGvu"
      },
      "source": [
        "### Part (d) -- 1 pt\n",
        "\n",
        "What does the code `img_torch.transpose(0,2)` do? What does the expression return? \n",
        "Is the original variable `img_torch` updated? Explain."
      ]
    },
    {
      "cell_type": "code",
      "execution_count": null,
      "metadata": {
        "collapsed": true,
        "id": "omOJqIhEIGvu",
        "jupyter": {
          "outputs_hidden": true
        },
        "colab": {
          "base_uri": "https://localhost:8080/"
        },
        "outputId": "8d640f8d-e89a-4439-88f5-288eec969341"
      },
      "outputs": [
        {
          "output_type": "execute_result",
          "data": {
            "text/plain": [
              "tensor([[[0.5882, 0.5412, 0.6157,  ..., 0.5882, 0.5804, 0.5843],\n",
              "         [0.5765, 0.5647, 0.6196,  ..., 0.6078, 0.6039, 0.6078],\n",
              "         [0.5569, 0.5961, 0.6196,  ..., 0.6196, 0.6235, 0.6157],\n",
              "         ...,\n",
              "         [0.6039, 0.6078, 0.6157,  ..., 0.3804, 0.4039, 0.4588],\n",
              "         [0.6157, 0.6196, 0.6275,  ..., 0.3804, 0.3961, 0.4510],\n",
              "         [0.6157, 0.6157, 0.6235,  ..., 0.3843, 0.3804, 0.4235]],\n",
              "\n",
              "        [[0.3725, 0.3216, 0.3765,  ..., 0.3725, 0.3647, 0.3686],\n",
              "         [0.3608, 0.3451, 0.3843,  ..., 0.3922, 0.3882, 0.3922],\n",
              "         [0.3412, 0.3765, 0.3843,  ..., 0.4039, 0.4078, 0.4000],\n",
              "         ...,\n",
              "         [0.3647, 0.3686, 0.3765,  ..., 0.3098, 0.3216, 0.3725],\n",
              "         [0.3765, 0.3804, 0.3882,  ..., 0.3098, 0.3137, 0.3647],\n",
              "         [0.3765, 0.3765, 0.3843,  ..., 0.3137, 0.2980, 0.3373]],\n",
              "\n",
              "        [[0.1490, 0.0902, 0.1529,  ..., 0.1529, 0.1451, 0.1490],\n",
              "         [0.1373, 0.1137, 0.1490,  ..., 0.1725, 0.1686, 0.1725],\n",
              "         [0.1176, 0.1451, 0.1412,  ..., 0.1804, 0.1882, 0.1804],\n",
              "         ...,\n",
              "         [0.1529, 0.1569, 0.1608,  ..., 0.2157, 0.2392, 0.2902],\n",
              "         [0.1647, 0.1686, 0.1725,  ..., 0.2157, 0.2314, 0.2824],\n",
              "         [0.1647, 0.1647, 0.1725,  ..., 0.2196, 0.2157, 0.2549]],\n",
              "\n",
              "        [[1.0000, 1.0000, 1.0000,  ..., 1.0000, 1.0000, 1.0000],\n",
              "         [1.0000, 1.0000, 1.0000,  ..., 1.0000, 1.0000, 1.0000],\n",
              "         [1.0000, 1.0000, 1.0000,  ..., 1.0000, 1.0000, 1.0000],\n",
              "         ...,\n",
              "         [1.0000, 1.0000, 1.0000,  ..., 1.0000, 1.0000, 1.0000],\n",
              "         [1.0000, 1.0000, 1.0000,  ..., 1.0000, 1.0000, 1.0000],\n",
              "         [1.0000, 1.0000, 1.0000,  ..., 1.0000, 1.0000, 1.0000]]])"
            ]
          },
          "metadata": {},
          "execution_count": 266
        }
      ],
      "source": [
        "img_torch.transpose(0,2)\n",
        "# torch.transpose returns the matrix that is the transpose of the original matrix by swapping the given dimensions.\n",
        "# In this case, it swaps the first and third dimensions."
      ]
    },
    {
      "cell_type": "code",
      "source": [
        "help(torch.transpose)"
      ],
      "metadata": {
        "colab": {
          "base_uri": "https://localhost:8080/"
        },
        "id": "-7l38asRAMAp",
        "outputId": "ccc96b99-555d-4e9b-dea3-786f379d907b"
      },
      "execution_count": null,
      "outputs": [
        {
          "output_type": "stream",
          "name": "stdout",
          "text": [
            "Help on built-in function transpose in module torch:\n",
            "\n",
            "transpose(...)\n",
            "    transpose(input, dim0, dim1) -> Tensor\n",
            "    \n",
            "    Returns a tensor that is a transposed version of :attr:`input`.\n",
            "    The given dimensions :attr:`dim0` and :attr:`dim1` are swapped.\n",
            "    \n",
            "    If :attr:`input` is a strided tensor then the resulting :attr:`out`\n",
            "    tensor shares its underlying storage with the :attr:`input` tensor, so\n",
            "    changing the content of one would change the content of the other.\n",
            "    \n",
            "    If :attr:`input` is a :ref:`sparse tensor <sparse-docs>` then the\n",
            "    resulting :attr:`out` tensor *does not* share the underlying storage\n",
            "    with the :attr:`input` tensor.\n",
            "    \n",
            "    Args:\n",
            "        input (Tensor): the input tensor.\n",
            "        dim0 (int): the first dimension to be transposed\n",
            "        dim1 (int): the second dimension to be transposed\n",
            "    \n",
            "    Example::\n",
            "    \n",
            "        >>> x = torch.randn(2, 3)\n",
            "        >>> x\n",
            "        tensor([[ 1.0028, -0.9893,  0.5809],\n",
            "                [-0.1669,  0.7299,  0.4942]])\n",
            "        >>> torch.transpose(x, 0, 1)\n",
            "        tensor([[ 1.0028, -0.1669],\n",
            "                [-0.9893,  0.7299],\n",
            "                [ 0.5809,  0.4942]])\n",
            "    \n",
            "    See also :func:`torch.t`.\n",
            "\n"
          ]
        }
      ]
    },
    {
      "cell_type": "code",
      "source": [
        "img_torch\n",
        "# torch.swap does not modify the original matrix"
      ],
      "metadata": {
        "colab": {
          "base_uri": "https://localhost:8080/"
        },
        "id": "u33iOp2a_3Zt",
        "outputId": "6e65fe35-7992-4bcb-8469-64e38c1947b1"
      },
      "execution_count": null,
      "outputs": [
        {
          "output_type": "execute_result",
          "data": {
            "text/plain": [
              "tensor([[[0.5882, 0.3725, 0.1490, 1.0000],\n",
              "         [0.5765, 0.3608, 0.1373, 1.0000],\n",
              "         [0.5569, 0.3412, 0.1176, 1.0000],\n",
              "         ...,\n",
              "         [0.6039, 0.3647, 0.1529, 1.0000],\n",
              "         [0.6157, 0.3765, 0.1647, 1.0000],\n",
              "         [0.6157, 0.3765, 0.1647, 1.0000]],\n",
              "\n",
              "        [[0.5412, 0.3216, 0.0902, 1.0000],\n",
              "         [0.5647, 0.3451, 0.1137, 1.0000],\n",
              "         [0.5961, 0.3765, 0.1451, 1.0000],\n",
              "         ...,\n",
              "         [0.6078, 0.3686, 0.1569, 1.0000],\n",
              "         [0.6196, 0.3804, 0.1686, 1.0000],\n",
              "         [0.6157, 0.3765, 0.1647, 1.0000]],\n",
              "\n",
              "        [[0.6157, 0.3765, 0.1529, 1.0000],\n",
              "         [0.6196, 0.3843, 0.1490, 1.0000],\n",
              "         [0.6196, 0.3843, 0.1412, 1.0000],\n",
              "         ...,\n",
              "         [0.6157, 0.3765, 0.1608, 1.0000],\n",
              "         [0.6275, 0.3882, 0.1725, 1.0000],\n",
              "         [0.6235, 0.3843, 0.1725, 1.0000]],\n",
              "\n",
              "        ...,\n",
              "\n",
              "        [[0.5882, 0.3725, 0.1529, 1.0000],\n",
              "         [0.6078, 0.3922, 0.1725, 1.0000],\n",
              "         [0.6196, 0.4039, 0.1804, 1.0000],\n",
              "         ...,\n",
              "         [0.3804, 0.3098, 0.2157, 1.0000],\n",
              "         [0.3804, 0.3098, 0.2157, 1.0000],\n",
              "         [0.3843, 0.3137, 0.2196, 1.0000]],\n",
              "\n",
              "        [[0.5804, 0.3647, 0.1451, 1.0000],\n",
              "         [0.6039, 0.3882, 0.1686, 1.0000],\n",
              "         [0.6235, 0.4078, 0.1882, 1.0000],\n",
              "         ...,\n",
              "         [0.4039, 0.3216, 0.2392, 1.0000],\n",
              "         [0.3961, 0.3137, 0.2314, 1.0000],\n",
              "         [0.3804, 0.2980, 0.2157, 1.0000]],\n",
              "\n",
              "        [[0.5843, 0.3686, 0.1490, 1.0000],\n",
              "         [0.6078, 0.3922, 0.1725, 1.0000],\n",
              "         [0.6157, 0.4000, 0.1804, 1.0000],\n",
              "         ...,\n",
              "         [0.4588, 0.3725, 0.2902, 1.0000],\n",
              "         [0.4510, 0.3647, 0.2824, 1.0000],\n",
              "         [0.4235, 0.3373, 0.2549, 1.0000]]])"
            ]
          },
          "metadata": {},
          "execution_count": 268
        }
      ]
    },
    {
      "cell_type": "markdown",
      "metadata": {
        "id": "lHrzC0EqIGvx"
      },
      "source": [
        "### Part (e) -- 1 pt\n",
        "\n",
        "What does the code `img_torch.unsqueeze(0)` do? What does the expression return? \n",
        "Is the original variable `img_torch` updated? Explain."
      ]
    },
    {
      "cell_type": "code",
      "source": [
        "help(torch.unsqueeze)"
      ],
      "metadata": {
        "colab": {
          "base_uri": "https://localhost:8080/"
        },
        "id": "bmPrSWhHOgtn",
        "outputId": "a08a83a5-a947-4f8d-d1dd-fe258230ecca"
      },
      "execution_count": null,
      "outputs": [
        {
          "output_type": "stream",
          "name": "stdout",
          "text": [
            "Help on built-in function unsqueeze in module torch:\n",
            "\n",
            "unsqueeze(...)\n",
            "    unsqueeze(input, dim) -> Tensor\n",
            "    \n",
            "    Returns a new tensor with a dimension of size one inserted at the\n",
            "    specified position.\n",
            "    \n",
            "    The returned tensor shares the same underlying data with this tensor.\n",
            "    \n",
            "    A :attr:`dim` value within the range ``[-input.dim() - 1, input.dim() + 1)``\n",
            "    can be used. Negative :attr:`dim` will correspond to :meth:`unsqueeze`\n",
            "    applied at :attr:`dim` = ``dim + input.dim() + 1``.\n",
            "    \n",
            "    Args:\n",
            "        input (Tensor): the input tensor.\n",
            "        dim (int): the index at which to insert the singleton dimension\n",
            "    \n",
            "    Example::\n",
            "    \n",
            "        >>> x = torch.tensor([1, 2, 3, 4])\n",
            "        >>> torch.unsqueeze(x, 0)\n",
            "        tensor([[ 1,  2,  3,  4]])\n",
            "        >>> torch.unsqueeze(x, 1)\n",
            "        tensor([[ 1],\n",
            "                [ 2],\n",
            "                [ 3],\n",
            "                [ 4]])\n",
            "\n"
          ]
        }
      ]
    },
    {
      "cell_type": "code",
      "execution_count": null,
      "metadata": {
        "collapsed": true,
        "id": "ZFePj7E5IGvz",
        "jupyter": {
          "outputs_hidden": true
        },
        "colab": {
          "base_uri": "https://localhost:8080/"
        },
        "outputId": "50fa5740-39c6-4f0f-a439-107706a8716c"
      },
      "outputs": [
        {
          "output_type": "execute_result",
          "data": {
            "text/plain": [
              "tensor([[[[0.5882, 0.3725, 0.1490, 1.0000],\n",
              "          [0.5765, 0.3608, 0.1373, 1.0000],\n",
              "          [0.5569, 0.3412, 0.1176, 1.0000],\n",
              "          ...,\n",
              "          [0.6039, 0.3647, 0.1529, 1.0000],\n",
              "          [0.6157, 0.3765, 0.1647, 1.0000],\n",
              "          [0.6157, 0.3765, 0.1647, 1.0000]],\n",
              "\n",
              "         [[0.5412, 0.3216, 0.0902, 1.0000],\n",
              "          [0.5647, 0.3451, 0.1137, 1.0000],\n",
              "          [0.5961, 0.3765, 0.1451, 1.0000],\n",
              "          ...,\n",
              "          [0.6078, 0.3686, 0.1569, 1.0000],\n",
              "          [0.6196, 0.3804, 0.1686, 1.0000],\n",
              "          [0.6157, 0.3765, 0.1647, 1.0000]],\n",
              "\n",
              "         [[0.6157, 0.3765, 0.1529, 1.0000],\n",
              "          [0.6196, 0.3843, 0.1490, 1.0000],\n",
              "          [0.6196, 0.3843, 0.1412, 1.0000],\n",
              "          ...,\n",
              "          [0.6157, 0.3765, 0.1608, 1.0000],\n",
              "          [0.6275, 0.3882, 0.1725, 1.0000],\n",
              "          [0.6235, 0.3843, 0.1725, 1.0000]],\n",
              "\n",
              "         ...,\n",
              "\n",
              "         [[0.5882, 0.3725, 0.1529, 1.0000],\n",
              "          [0.6078, 0.3922, 0.1725, 1.0000],\n",
              "          [0.6196, 0.4039, 0.1804, 1.0000],\n",
              "          ...,\n",
              "          [0.3804, 0.3098, 0.2157, 1.0000],\n",
              "          [0.3804, 0.3098, 0.2157, 1.0000],\n",
              "          [0.3843, 0.3137, 0.2196, 1.0000]],\n",
              "\n",
              "         [[0.5804, 0.3647, 0.1451, 1.0000],\n",
              "          [0.6039, 0.3882, 0.1686, 1.0000],\n",
              "          [0.6235, 0.4078, 0.1882, 1.0000],\n",
              "          ...,\n",
              "          [0.4039, 0.3216, 0.2392, 1.0000],\n",
              "          [0.3961, 0.3137, 0.2314, 1.0000],\n",
              "          [0.3804, 0.2980, 0.2157, 1.0000]],\n",
              "\n",
              "         [[0.5843, 0.3686, 0.1490, 1.0000],\n",
              "          [0.6078, 0.3922, 0.1725, 1.0000],\n",
              "          [0.6157, 0.4000, 0.1804, 1.0000],\n",
              "          ...,\n",
              "          [0.4588, 0.3725, 0.2902, 1.0000],\n",
              "          [0.4510, 0.3647, 0.2824, 1.0000],\n",
              "          [0.4235, 0.3373, 0.2549, 1.0000]]]])"
            ]
          },
          "metadata": {},
          "execution_count": 270
        }
      ],
      "source": [
        "# torch.unsqueeze inserts a dimension of size one at the specified position and returns the new matrix\n",
        "\n",
        "img_torch.unsqueeze(0)"
      ]
    },
    {
      "cell_type": "code",
      "source": [
        "img_torch\n",
        "# torch.unsqueeze doesn't update the original matrix"
      ],
      "metadata": {
        "colab": {
          "base_uri": "https://localhost:8080/"
        },
        "id": "aDCzgTosb09q",
        "outputId": "ead86b64-36c5-4b4e-ca3b-2cf012c283f5"
      },
      "execution_count": null,
      "outputs": [
        {
          "output_type": "execute_result",
          "data": {
            "text/plain": [
              "tensor([[[0.5882, 0.3725, 0.1490, 1.0000],\n",
              "         [0.5765, 0.3608, 0.1373, 1.0000],\n",
              "         [0.5569, 0.3412, 0.1176, 1.0000],\n",
              "         ...,\n",
              "         [0.6039, 0.3647, 0.1529, 1.0000],\n",
              "         [0.6157, 0.3765, 0.1647, 1.0000],\n",
              "         [0.6157, 0.3765, 0.1647, 1.0000]],\n",
              "\n",
              "        [[0.5412, 0.3216, 0.0902, 1.0000],\n",
              "         [0.5647, 0.3451, 0.1137, 1.0000],\n",
              "         [0.5961, 0.3765, 0.1451, 1.0000],\n",
              "         ...,\n",
              "         [0.6078, 0.3686, 0.1569, 1.0000],\n",
              "         [0.6196, 0.3804, 0.1686, 1.0000],\n",
              "         [0.6157, 0.3765, 0.1647, 1.0000]],\n",
              "\n",
              "        [[0.6157, 0.3765, 0.1529, 1.0000],\n",
              "         [0.6196, 0.3843, 0.1490, 1.0000],\n",
              "         [0.6196, 0.3843, 0.1412, 1.0000],\n",
              "         ...,\n",
              "         [0.6157, 0.3765, 0.1608, 1.0000],\n",
              "         [0.6275, 0.3882, 0.1725, 1.0000],\n",
              "         [0.6235, 0.3843, 0.1725, 1.0000]],\n",
              "\n",
              "        ...,\n",
              "\n",
              "        [[0.5882, 0.3725, 0.1529, 1.0000],\n",
              "         [0.6078, 0.3922, 0.1725, 1.0000],\n",
              "         [0.6196, 0.4039, 0.1804, 1.0000],\n",
              "         ...,\n",
              "         [0.3804, 0.3098, 0.2157, 1.0000],\n",
              "         [0.3804, 0.3098, 0.2157, 1.0000],\n",
              "         [0.3843, 0.3137, 0.2196, 1.0000]],\n",
              "\n",
              "        [[0.5804, 0.3647, 0.1451, 1.0000],\n",
              "         [0.6039, 0.3882, 0.1686, 1.0000],\n",
              "         [0.6235, 0.4078, 0.1882, 1.0000],\n",
              "         ...,\n",
              "         [0.4039, 0.3216, 0.2392, 1.0000],\n",
              "         [0.3961, 0.3137, 0.2314, 1.0000],\n",
              "         [0.3804, 0.2980, 0.2157, 1.0000]],\n",
              "\n",
              "        [[0.5843, 0.3686, 0.1490, 1.0000],\n",
              "         [0.6078, 0.3922, 0.1725, 1.0000],\n",
              "         [0.6157, 0.4000, 0.1804, 1.0000],\n",
              "         ...,\n",
              "         [0.4588, 0.3725, 0.2902, 1.0000],\n",
              "         [0.4510, 0.3647, 0.2824, 1.0000],\n",
              "         [0.4235, 0.3373, 0.2549, 1.0000]]])"
            ]
          },
          "metadata": {},
          "execution_count": 271
        }
      ]
    },
    {
      "cell_type": "markdown",
      "metadata": {
        "id": "re16jTB9IGv0"
      },
      "source": [
        "### Part (f) -- 1 pt\n",
        "\n",
        "Find the maximum value of `img_torch` along each colour channel? Your output should be a one-dimensional\n",
        "PyTorch tensor with exactly three values.\n",
        "\n",
        "Hint: lookup the function `torch.max`."
      ]
    },
    {
      "cell_type": "code",
      "source": [
        "no_alpha = img_torch[:,:,:3]\n",
        "no_alpha_transpose = no_alpha.transpose(0,2)\n",
        "# 3x2x3: 3 outter lists (r,g,b), every otter list has 2 inner list, every inner list has 3 elements\n",
        "no_alpha_transpose\n",
        "#help(torch.max)\n"
      ],
      "metadata": {
        "id": "cRLyKBogfhYo",
        "colab": {
          "base_uri": "https://localhost:8080/"
        },
        "outputId": "0bbe8b0a-3827-4613-ccd3-33c2aff97acf"
      },
      "execution_count": null,
      "outputs": [
        {
          "output_type": "execute_result",
          "data": {
            "text/plain": [
              "tensor([[[0.5882, 0.5412, 0.6157,  ..., 0.5882, 0.5804, 0.5843],\n",
              "         [0.5765, 0.5647, 0.6196,  ..., 0.6078, 0.6039, 0.6078],\n",
              "         [0.5569, 0.5961, 0.6196,  ..., 0.6196, 0.6235, 0.6157],\n",
              "         ...,\n",
              "         [0.6039, 0.6078, 0.6157,  ..., 0.3804, 0.4039, 0.4588],\n",
              "         [0.6157, 0.6196, 0.6275,  ..., 0.3804, 0.3961, 0.4510],\n",
              "         [0.6157, 0.6157, 0.6235,  ..., 0.3843, 0.3804, 0.4235]],\n",
              "\n",
              "        [[0.3725, 0.3216, 0.3765,  ..., 0.3725, 0.3647, 0.3686],\n",
              "         [0.3608, 0.3451, 0.3843,  ..., 0.3922, 0.3882, 0.3922],\n",
              "         [0.3412, 0.3765, 0.3843,  ..., 0.4039, 0.4078, 0.4000],\n",
              "         ...,\n",
              "         [0.3647, 0.3686, 0.3765,  ..., 0.3098, 0.3216, 0.3725],\n",
              "         [0.3765, 0.3804, 0.3882,  ..., 0.3098, 0.3137, 0.3647],\n",
              "         [0.3765, 0.3765, 0.3843,  ..., 0.3137, 0.2980, 0.3373]],\n",
              "\n",
              "        [[0.1490, 0.0902, 0.1529,  ..., 0.1529, 0.1451, 0.1490],\n",
              "         [0.1373, 0.1137, 0.1490,  ..., 0.1725, 0.1686, 0.1725],\n",
              "         [0.1176, 0.1451, 0.1412,  ..., 0.1804, 0.1882, 0.1804],\n",
              "         ...,\n",
              "         [0.1529, 0.1569, 0.1608,  ..., 0.2157, 0.2392, 0.2902],\n",
              "         [0.1647, 0.1686, 0.1725,  ..., 0.2157, 0.2314, 0.2824],\n",
              "         [0.1647, 0.1647, 0.1725,  ..., 0.2196, 0.2157, 0.2549]]])"
            ]
          },
          "metadata": {},
          "execution_count": 272
        }
      ]
    },
    {
      "cell_type": "code",
      "source": [
        "r_list = torch.max(no_alpha_transpose[0])\n",
        "g_list = torch.max(no_alpha_transpose[1])\n",
        "b_list = torch.max(no_alpha_transpose[2])\n",
        "max_list = torch.cat((r_list.reshape(1), g_list.reshape(1)),0)\n",
        "max_list = torch.cat((max_list, b_list.reshape(1)),0)\n",
        "max_list"
      ],
      "metadata": {
        "colab": {
          "base_uri": "https://localhost:8080/"
        },
        "id": "Y-U4QemdQXv8",
        "outputId": "37a5a141-6e89-4497-cc0e-aecc4a30b0fd"
      },
      "execution_count": null,
      "outputs": [
        {
          "output_type": "execute_result",
          "data": {
            "text/plain": [
              "tensor([0.8941, 0.7882, 0.6745])"
            ]
          },
          "metadata": {},
          "execution_count": 273
        }
      ]
    },
    {
      "cell_type": "markdown",
      "metadata": {
        "id": "3hhA2sX0au0D"
      },
      "source": [
        "## Part 5. Training an ANN [10 pt]\n",
        "\n",
        "The sample code provided below is a 2-layer ANN trained on the MNIST dataset to identify digits less than 3 or greater than and equal to 3. Modify the code by changing any of the following and observe how the accuracy and error are affected:\n",
        "\n",
        "- number of training iterations\n",
        "- number of hidden units\n",
        "- numbers of layers\n",
        "- types of activation functions\n",
        "- learning rate\n",
        "\n",
        "Please select at least three different options from the list above. For each option, please select two to three different parameters and provide a table. \n"
      ]
    },
    {
      "cell_type": "code",
      "execution_count": null,
      "metadata": {
        "collapsed": true,
        "id": "GGtthiz1tDh5",
        "jupyter": {
          "outputs_hidden": true
        },
        "colab": {
          "base_uri": "https://localhost:8080/"
        },
        "outputId": "03e72f98-ec28-4393-e77e-d14e8bcfc63e"
      },
      "outputs": [
        {
          "output_type": "stream",
          "name": "stdout",
          "text": [
            "Training Error Rate: 0.312\n",
            "Training Accuracy: 0.688\n",
            "Test Error Rate: 0.297\n",
            "Test Accuracy: 0.7030000000000001\n"
          ]
        }
      ],
      "source": [
        "import torch\n",
        "import torch.nn as nn\n",
        "import torch.nn.functional as F\n",
        "from torchvision import datasets, transforms\n",
        "import matplotlib.pyplot as plt # for plotting\n",
        "import torch.optim as optim\n",
        "\n",
        "torch.manual_seed(1) # set the random seed\n",
        "\n",
        "# define a 2-layer artificial neural network\n",
        "class Pigeon(nn.Module):\n",
        "    def __init__(self):\n",
        "        super(Pigeon, self).__init__()\n",
        "        self.layer1 = nn.Linear(28 * 28, 30)\n",
        "        self.layer2 = nn.Linear(30, 1)\n",
        "    def forward(self, img):\n",
        "        flattened = img.view(-1, 28 * 28)\n",
        "        activation1 = self.layer1(flattened)\n",
        "        activation1 = F.relu(activation1)\n",
        "        activation2 = self.layer2(activation1)\n",
        "        return activation2\n",
        "\n",
        "pigeon = Pigeon()\n",
        "\n",
        "# load the data\n",
        "mnist_data = datasets.MNIST('data', train=True, download=True)\n",
        "mnist_data = list(mnist_data)\n",
        "mnist_train = mnist_data[:1000]\n",
        "mnist_val   = mnist_data[1000:2000]\n",
        "img_to_tensor = transforms.ToTensor()\n",
        "      \n",
        "    \n",
        "# simplified training code to train `pigeon` on the \"small digit recognition\" task\n",
        "criterion = nn.BCEWithLogitsLoss()\n",
        "optimizer = optim.SGD(pigeon.parameters(), lr=0.1, momentum=0.9)\n",
        "\n",
        "for (image, label) in mnist_train:\n",
        "    # actual ground truth: is the digit less than 3?\n",
        "    actual = torch.tensor(label < 3).reshape([1,1]).type(torch.FloatTensor)\n",
        "    # pigeon prediction\n",
        "    out = pigeon(img_to_tensor(image)) # step 1-2\n",
        "    # update the parameters based on the loss\n",
        "    loss = criterion(out, actual)      # step 3\n",
        "    loss.backward()                    # step 4 (compute the updates for each parameter)\n",
        "    optimizer.step()                   # step 4 (make the updates for each parameter)\n",
        "    optimizer.zero_grad()              # a clean up step for PyTorch\n",
        "\n",
        "# computing the error and accuracy on the training set\n",
        "error = 0\n",
        "for (image, label) in mnist_train:\n",
        "    prob = torch.sigmoid(pigeon(img_to_tensor(image)))\n",
        "    if (prob < 0.5 and label < 3) or (prob >= 0.5 and label >= 3):\n",
        "        error += 1\n",
        "print(\"Training Error Rate:\", error/len(mnist_train))\n",
        "print(\"Training Accuracy:\", 1 - error/len(mnist_train))\n",
        "\n",
        "\n",
        "# computing the error and accuracy on a test set\n",
        "error = 0\n",
        "for (image, label) in mnist_val:\n",
        "    prob = torch.sigmoid(pigeon(img_to_tensor(image)))\n",
        "    if (prob < 0.5 and label < 3) or (prob >= 0.5 and label >= 3):\n",
        "        error += 1\n",
        "print(\"Test Error Rate:\", error/len(mnist_val))\n",
        "print(\"Test Accuracy:\", 1 - error/len(mnist_val))"
      ]
    },
    {
      "cell_type": "code",
      "source": [
        "import torch\n",
        "import torch.nn as nn\n",
        "import torch.nn.functional as F\n",
        "from torchvision import datasets, transforms\n",
        "import matplotlib.pyplot as plt # for plotting\n",
        "import torch.optim as optim\n",
        "\n",
        "torch.manual_seed(1) # set the random seed\n",
        "\n",
        "# define a 2-layer artificial neural network\n",
        "class Pigeon(nn.Module):\n",
        "    def __init__(self):\n",
        "        super(Pigeon, self).__init__()\n",
        "        self.layer1 = nn.Linear(28 * 28, 30)\n",
        "        self.layer2 = nn.Linear(30, 10)\n",
        "        self.layer3 = nn.Linear(10, 1)\n",
        "    def forward(self, img):\n",
        "        flattened = img.view(-1, 28 * 28)\n",
        "        activation1 = self.layer1(flattened)\n",
        "        activation1 = F.relu(activation1)\n",
        "        activation2 = self.layer2(activation1)\n",
        "        activation2 = F.relu(activation2)\n",
        "        activation3 = self.layer3(activation2)\n",
        "        return activation3\n",
        "\n",
        "pigeon = Pigeon()\n",
        "\n",
        "# load the data\n",
        "mnist_data = datasets.MNIST('data', train=True, download=True)\n",
        "mnist_data = list(mnist_data)\n",
        "mnist_train = mnist_data[:1000]\n",
        "mnist_val   = mnist_data[1000:2000]\n",
        "img_to_tensor = transforms.ToTensor()\n",
        "      \n",
        "    \n",
        "# simplified training code to train `pigeon` on the \"small digit recognition\" task\n",
        "criterion = nn.BCEWithLogitsLoss()\n",
        "optimizer = optim.SGD(pigeon.parameters(), lr=0.001, momentum=0.9)\n",
        "\n",
        "for i in range(3):\n",
        "  for (image, label) in mnist_train:\n",
        "      # actual ground truth: is the digit less than 3?\n",
        "      actual = torch.tensor(label < 3).reshape([1,1]).type(torch.FloatTensor)\n",
        "      # pigeon prediction\n",
        "      out = pigeon(img_to_tensor(image)) # step 1-2\n",
        "      # update the parameters based on the loss\n",
        "      loss = criterion(out, actual)      # step 3\n",
        "      loss.backward()                    # step 4 (compute the updates for each parameter)\n",
        "      optimizer.step()                   # step 4 (make the updates for each parameter)\n",
        "      optimizer.zero_grad()              # a clean up step for PyTorch\n",
        "\n",
        "# computing the error and accuracy on the training set\n",
        "error = 0\n",
        "for (image, label) in mnist_train:\n",
        "    prob = torch.sigmoid(pigeon(img_to_tensor(image)))\n",
        "    if (prob < 0.5 and label < 3) or (prob >= 0.5 and label >= 3):\n",
        "        error += 1\n",
        "print(\"Training Error Rate:\", error/len(mnist_train))\n",
        "print(\"Training Accuracy:\", 1 - error/len(mnist_train))\n",
        "\n",
        "\n",
        "# computing the error and accuracy on a test set\n",
        "error = 0\n",
        "for (image, label) in mnist_val:\n",
        "    prob = torch.sigmoid(pigeon(img_to_tensor(image)))\n",
        "    if (prob < 0.5 and label < 3) or (prob >= 0.5 and label >= 3):\n",
        "        error += 1\n",
        "print(\"Test Error Rate:\", error/len(mnist_val))\n",
        "print(\"Test Accuracy:\", 1 - error/len(mnist_val))"
      ],
      "metadata": {
        "colab": {
          "base_uri": "https://localhost:8080/"
        },
        "id": "9n16u9d5q8VD",
        "outputId": "5c20842c-77a1-4176-886d-0b4e62fb998f"
      },
      "execution_count": null,
      "outputs": [
        {
          "output_type": "stream",
          "name": "stdout",
          "text": [
            "Training Error Rate: 0.026\n",
            "Training Accuracy: 0.974\n",
            "Test Error Rate: 0.077\n",
            "Test Accuracy: 0.923\n"
          ]
        }
      ]
    },
    {
      "cell_type": "code",
      "source": [
        "import torch\n",
        "import torch.nn as nn\n",
        "import torch.nn.functional as F\n",
        "from torchvision import datasets, transforms\n",
        "import matplotlib.pyplot as plt # for plotting\n",
        "import torch.optim as optim\n",
        "\n",
        "torch.manual_seed(1) # set the random seed\n",
        "\n",
        "# define a 2-layer artificial neural network\n",
        "class Pigeon(nn.Module):\n",
        "    def __init__(self):\n",
        "        super(Pigeon, self).__init__()\n",
        "        self.layer1 = nn.Linear(28 * 28, 50)\n",
        "        self.layer2 = nn.Linear(50, 20)\n",
        "        self.layer3 = nn.Linear(20, 10)\n",
        "        self.layer4 = nn.Linear(10, 1)\n",
        "    def forward(self, img):\n",
        "        flattened = img.view(-1, 28 * 28)\n",
        "        activation1 = F.relu(self.layer1(flattened))\n",
        "        activation2 = F.relu(self.layer2(activation1))\n",
        "        activation3 = F.relu(self.layer3(activation2))\n",
        "        output = self.layer4(activation3)\n",
        "        return output\n",
        "\n",
        "pigeon = Pigeon()\n",
        "\n",
        "# load the data\n",
        "mnist_data = datasets.MNIST('data', train=True, download=True)\n",
        "mnist_data = list(mnist_data)\n",
        "mnist_train = mnist_data[:1000]\n",
        "mnist_val   = mnist_data[1000:2000]\n",
        "img_to_tensor = transforms.ToTensor()\n",
        "      \n",
        "    \n",
        "# simplified training code to train `pigeon` on the \"small digit recognition\" task\n",
        "criterion = nn.BCEWithLogitsLoss()\n",
        "optimizer = optim.SGD(pigeon.parameters(), lr=0.005, momentum=0.9)\n",
        "\n",
        "for (image, label) in mnist_train:\n",
        "    # actual ground truth: is the digit less than 3?\n",
        "    actual = torch.tensor(label < 3).reshape([1,1]).type(torch.FloatTensor)\n",
        "    # pigeon prediction\n",
        "    out = pigeon(img_to_tensor(image)) # step 1-2\n",
        "    # update the parameters based on the loss\n",
        "    loss = criterion(out, actual)      # step 3\n",
        "    loss.backward()                    # step 4 (compute the updates for each parameter)\n",
        "    optimizer.step()                   # step 4 (make the updates for each parameter)\n",
        "    optimizer.zero_grad()              # a clean up step for PyTorch\n",
        "\n",
        "# computing the error and accuracy on the training set\n",
        "error = 0\n",
        "for (image, label) in mnist_train:\n",
        "    prob = torch.sigmoid(pigeon(img_to_tensor(image)))\n",
        "    if (prob < 0.5 and label < 3) or (prob >= 0.5 and label >= 3):\n",
        "        error += 1\n",
        "print(\"Training Error Rate:\", error/len(mnist_train))\n",
        "print(\"Training Accuracy:\", 1 - error/len(mnist_train))\n",
        "\n",
        "\n",
        "# computing the error and accuracy on a test set\n",
        "error = 0\n",
        "for (image, label) in mnist_val:\n",
        "    prob = torch.sigmoid(pigeon(img_to_tensor(image)))\n",
        "    if (prob < 0.5 and label < 3) or (prob >= 0.5 and label >= 3):\n",
        "        error += 1\n",
        "print(\"Test Error Rate:\", error/len(mnist_val))\n",
        "print(\"Test Accuracy:\", 1 - error/len(mnist_val))"
      ],
      "metadata": {
        "colab": {
          "base_uri": "https://localhost:8080/"
        },
        "id": "zCyM2pj7wFO6",
        "outputId": "01368428-3888-42d9-d10c-4e0c201dde2c"
      },
      "execution_count": null,
      "outputs": [
        {
          "output_type": "stream",
          "name": "stdout",
          "text": [
            "Training Error Rate: 0.051\n",
            "Training Accuracy: 0.949\n",
            "Test Error Rate: 0.091\n",
            "Test Accuracy: 0.909\n"
          ]
        }
      ]
    },
    {
      "cell_type": "markdown",
      "source": [
        "|Parameters: Training iterations|Training Accuracy|Testing Accuracy|\n",
        "|-------------------------------|:----------------|:---------------|\n",
        "|1                              |0.964            |0.921           |\n",
        "|2                              |0.984            |0.943           |\n",
        "|3                              |0.986            |0.931           |\n"
      ],
      "metadata": {
        "id": "cTrPdARcq6XB"
      }
    },
    {
      "cell_type": "markdown",
      "source": [
        "|Parameters: Learning Rate|Training Accuracy|Testing Accuracy|\n",
        "|-------------------------|:----------------|:---------------|\n",
        "|0.001                    |0.974            |0.923           |\n",
        "|0.005                    |0.964            |0.921           |\n",
        "|0.01                     |0.961            |0.918           |\n"
      ],
      "metadata": {
        "id": "PEhbV7GsslKI"
      }
    },
    {
      "cell_type": "markdown",
      "source": [
        "|Parameters: Number of Layers|Training Accuracy|Testing Accuracy|\n",
        "|-------------------------------|:----------------|:---------------|\n",
        "|2                              |0.964            |0.921           |\n",
        "|3                              |0.958            |0.915           |\n",
        "|4                              |0.949            |0.909           |\n"
      ],
      "metadata": {
        "id": "RmoEExk_wHFx"
      }
    },
    {
      "cell_type": "markdown",
      "metadata": {
        "id": "viYKlFupcgF3"
      },
      "source": [
        "### Part (a) -- 3 pt\n",
        "Comment on which of the above changes resulted in the best accuracy on training data? What accuracy were you able to achieve?"
      ]
    },
    {
      "cell_type": "code",
      "execution_count": null,
      "metadata": {
        "collapsed": true,
        "id": "FMgRXRqiqAEx",
        "jupyter": {
          "outputs_hidden": true
        }
      },
      "outputs": [],
      "source": [
        "# Increasing the training iterations to 3 resulted in the best accuracy on training data, which is 0.986."
      ]
    },
    {
      "cell_type": "markdown",
      "metadata": {
        "id": "pi6bWs7jcIem"
      },
      "source": [
        "### Part (b) -- 3 pt\n",
        "\n",
        "\n",
        "Comment on which of the above changes resulted in the best accuracy on testing data? What accuracy were you able to achieve?"
      ]
    },
    {
      "cell_type": "code",
      "execution_count": null,
      "metadata": {
        "collapsed": true,
        "id": "QtyIrtuNqAh0",
        "jupyter": {
          "outputs_hidden": true
        }
      },
      "outputs": [],
      "source": [
        "# Increasing the training iterations to 2 resulted in the best accuracy on test data, which is 0.943."
      ]
    },
    {
      "cell_type": "markdown",
      "metadata": {
        "id": "j7W2k347wFqo"
      },
      "source": [
        "### Part (c) -- 4 pt\n",
        "Which model hyperparameters should you use, the ones from (a) or (b)?"
      ]
    },
    {
      "cell_type": "code",
      "execution_count": null,
      "metadata": {
        "collapsed": true,
        "id": "nuESNMuewOnT",
        "jupyter": {
          "outputs_hidden": true
        }
      },
      "outputs": [],
      "source": [
        "# I would use the hyperparameters from part (b) where the test data reflects more accurate performance of the model, since a high training data could mean overfitting."
      ]
    }
  ],
  "metadata": {
    "colab": {
      "collapsed_sections": [],
      "provenance": []
    },
    "kernelspec": {
      "display_name": "Python 3 (ipykernel)",
      "language": "python",
      "name": "python3"
    },
    "language_info": {
      "codemirror_mode": {
        "name": "ipython",
        "version": 3
      },
      "file_extension": ".py",
      "mimetype": "text/x-python",
      "name": "python",
      "nbconvert_exporter": "python",
      "pygments_lexer": "ipython3",
      "version": "3.9.4"
    }
  },
  "nbformat": 4,
  "nbformat_minor": 0
}